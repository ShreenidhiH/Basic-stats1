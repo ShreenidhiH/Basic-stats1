{
 "cells": [
  {
   "cell_type": "code",
   "execution_count": 3,
   "id": "d4ce390c",
   "metadata": {},
   "outputs": [],
   "source": [
    "import pandas as pd\n",
    "import numpy as np\n",
    "import seaborn as sn\n",
    "import matplotlib.pyplot as plt\n",
    "import warnings\n",
    "warnings.filterwarnings(\"ignore\")"
   ]
  },
  {
   "cell_type": "markdown",
   "id": "0476c7d8",
   "metadata": {},
   "source": [
    "# Question 20"
   ]
  },
  {
   "cell_type": "code",
   "execution_count": 4,
   "id": "17523802",
   "metadata": {},
   "outputs": [],
   "source": [
    "fl= pd.read_csv(\"Cars.csv\")"
   ]
  },
  {
   "cell_type": "code",
   "execution_count": 30,
   "id": "0a09c9b3",
   "metadata": {},
   "outputs": [
    {
     "data": {
      "text/plain": [
       "count    81.000000\n",
       "mean     34.422076\n",
       "std       9.131445\n",
       "min      12.101263\n",
       "25%      27.856252\n",
       "50%      35.152727\n",
       "75%      39.531633\n",
       "max      53.700681\n",
       "Name: MPG, dtype: float64"
      ]
     },
     "execution_count": 30,
     "metadata": {},
     "output_type": "execute_result"
    }
   ],
   "source": [
    "fl= pd.read_csv(\"Cars.csv\")\n",
    "fl.MPG.describe()"
   ]
  },
  {
   "cell_type": "code",
   "execution_count": 7,
   "id": "c9976659",
   "metadata": {},
   "outputs": [
    {
     "data": {
      "text/plain": [
       "0.34759394041453007"
      ]
     },
     "execution_count": 7,
     "metadata": {},
     "output_type": "execute_result"
    }
   ],
   "source": [
    "# P(MPG>38)    \n",
    "1-stats.norm.cdf(38,34.422076,9.131445)"
   ]
  },
  {
   "cell_type": "code",
   "execution_count": 8,
   "id": "c9784f00",
   "metadata": {},
   "outputs": [
    {
     "data": {
      "text/plain": [
       "0.7293498604157946"
      ]
     },
     "execution_count": 8,
     "metadata": {},
     "output_type": "execute_result"
    }
   ],
   "source": [
    "# P(MPG<40)    \n",
    "stats.norm.cdf(40,34.422076,9.131445)"
   ]
  },
  {
   "cell_type": "code",
   "execution_count": 9,
   "id": "79dc373c",
   "metadata": {},
   "outputs": [
    {
     "data": {
      "text/plain": [
       "0.8988689076273199"
      ]
     },
     "execution_count": 9,
     "metadata": {},
     "output_type": "execute_result"
    }
   ],
   "source": [
    "# P (20<MPG<50) \n",
    "stats.norm.cdf(50,34.422076,9.131445)-stats.norm.cdf(20,34.422076,9.131445)\n"
   ]
  },
  {
   "cell_type": "code",
   "execution_count": null,
   "id": "52de8d8f",
   "metadata": {},
   "outputs": [],
   "source": []
  },
  {
   "cell_type": "markdown",
   "id": "540b1061",
   "metadata": {},
   "source": [
    "# Question 7"
   ]
  },
  {
   "cell_type": "code",
   "execution_count": 10,
   "id": "3bc9994b",
   "metadata": {},
   "outputs": [],
   "source": [
    "fll=pd.read_csv(\"Q7.csv\")"
   ]
  },
  {
   "cell_type": "code",
   "execution_count": 11,
   "id": "784e2fc1",
   "metadata": {},
   "outputs": [
    {
     "data": {
      "text/html": [
       "<div>\n",
       "<style scoped>\n",
       "    .dataframe tbody tr th:only-of-type {\n",
       "        vertical-align: middle;\n",
       "    }\n",
       "\n",
       "    .dataframe tbody tr th {\n",
       "        vertical-align: top;\n",
       "    }\n",
       "\n",
       "    .dataframe thead th {\n",
       "        text-align: right;\n",
       "    }\n",
       "</style>\n",
       "<table border=\"1\" class=\"dataframe\">\n",
       "  <thead>\n",
       "    <tr style=\"text-align: right;\">\n",
       "      <th></th>\n",
       "      <th>Points</th>\n",
       "      <th>Score</th>\n",
       "      <th>Weigh</th>\n",
       "    </tr>\n",
       "  </thead>\n",
       "  <tbody>\n",
       "    <tr>\n",
       "      <th>count</th>\n",
       "      <td>32.000000</td>\n",
       "      <td>32.000000</td>\n",
       "      <td>32.000000</td>\n",
       "    </tr>\n",
       "    <tr>\n",
       "      <th>mean</th>\n",
       "      <td>3.596563</td>\n",
       "      <td>3.217250</td>\n",
       "      <td>17.848750</td>\n",
       "    </tr>\n",
       "    <tr>\n",
       "      <th>std</th>\n",
       "      <td>0.534679</td>\n",
       "      <td>0.978457</td>\n",
       "      <td>1.786943</td>\n",
       "    </tr>\n",
       "    <tr>\n",
       "      <th>min</th>\n",
       "      <td>2.760000</td>\n",
       "      <td>1.513000</td>\n",
       "      <td>14.500000</td>\n",
       "    </tr>\n",
       "    <tr>\n",
       "      <th>25%</th>\n",
       "      <td>3.080000</td>\n",
       "      <td>2.581250</td>\n",
       "      <td>16.892500</td>\n",
       "    </tr>\n",
       "    <tr>\n",
       "      <th>50%</th>\n",
       "      <td>3.695000</td>\n",
       "      <td>3.325000</td>\n",
       "      <td>17.710000</td>\n",
       "    </tr>\n",
       "    <tr>\n",
       "      <th>75%</th>\n",
       "      <td>3.920000</td>\n",
       "      <td>3.610000</td>\n",
       "      <td>18.900000</td>\n",
       "    </tr>\n",
       "    <tr>\n",
       "      <th>max</th>\n",
       "      <td>4.930000</td>\n",
       "      <td>5.424000</td>\n",
       "      <td>22.900000</td>\n",
       "    </tr>\n",
       "  </tbody>\n",
       "</table>\n",
       "</div>"
      ],
      "text/plain": [
       "          Points      Score      Weigh\n",
       "count  32.000000  32.000000  32.000000\n",
       "mean    3.596563   3.217250  17.848750\n",
       "std     0.534679   0.978457   1.786943\n",
       "min     2.760000   1.513000  14.500000\n",
       "25%     3.080000   2.581250  16.892500\n",
       "50%     3.695000   3.325000  17.710000\n",
       "75%     3.920000   3.610000  18.900000\n",
       "max     4.930000   5.424000  22.900000"
      ]
     },
     "execution_count": 11,
     "metadata": {},
     "output_type": "execute_result"
    }
   ],
   "source": [
    "# for findind mean, median, standard deviation, Range.\n",
    "fll[[\"Points\",\"Score\",\"Weigh\"]].describe()"
   ]
  },
  {
   "cell_type": "code",
   "execution_count": 12,
   "id": "6f0d2a94",
   "metadata": {},
   "outputs": [
    {
     "data": {
      "text/html": [
       "<div>\n",
       "<style scoped>\n",
       "    .dataframe tbody tr th:only-of-type {\n",
       "        vertical-align: middle;\n",
       "    }\n",
       "\n",
       "    .dataframe tbody tr th {\n",
       "        vertical-align: top;\n",
       "    }\n",
       "\n",
       "    .dataframe thead th {\n",
       "        text-align: right;\n",
       "    }\n",
       "</style>\n",
       "<table border=\"1\" class=\"dataframe\">\n",
       "  <thead>\n",
       "    <tr style=\"text-align: right;\">\n",
       "      <th></th>\n",
       "      <th>Points</th>\n",
       "      <th>Score</th>\n",
       "      <th>Weigh</th>\n",
       "    </tr>\n",
       "  </thead>\n",
       "  <tbody>\n",
       "    <tr>\n",
       "      <th>0</th>\n",
       "      <td>3.07</td>\n",
       "      <td>3.44</td>\n",
       "      <td>17.02</td>\n",
       "    </tr>\n",
       "    <tr>\n",
       "      <th>1</th>\n",
       "      <td>3.92</td>\n",
       "      <td>NaN</td>\n",
       "      <td>18.90</td>\n",
       "    </tr>\n",
       "  </tbody>\n",
       "</table>\n",
       "</div>"
      ],
      "text/plain": [
       "   Points  Score  Weigh\n",
       "0    3.07   3.44  17.02\n",
       "1    3.92    NaN  18.90"
      ]
     },
     "execution_count": 12,
     "metadata": {},
     "output_type": "execute_result"
    }
   ],
   "source": [
    "fll[[\"Points\",\"Score\",\"Weigh\"]].mode()"
   ]
  },
  {
   "cell_type": "code",
   "execution_count": 13,
   "id": "e314b0ee",
   "metadata": {},
   "outputs": [
    {
     "data": {
      "text/plain": [
       "Points    0.285881\n",
       "Score     0.957379\n",
       "Weigh     3.193166\n",
       "dtype: float64"
      ]
     },
     "execution_count": 13,
     "metadata": {},
     "output_type": "execute_result"
    }
   ],
   "source": [
    "# finding variance\n",
    "fll[[\"Points\",\"Score\",\"Weigh\"]].var()"
   ]
  },
  {
   "cell_type": "code",
   "execution_count": 17,
   "id": "133a5517",
   "metadata": {},
   "outputs": [],
   "source": [
    "from scipy import stats"
   ]
  },
  {
   "cell_type": "markdown",
   "id": "ad06a9db",
   "metadata": {},
   "source": [
    "# Question 9 a"
   ]
  },
  {
   "cell_type": "code",
   "execution_count": 27,
   "id": "eb367017",
   "metadata": {},
   "outputs": [],
   "source": [
    "nne=pd.read_csv(\"Q9_a.csv\")\n"
   ]
  },
  {
   "cell_type": "code",
   "execution_count": 19,
   "id": "636b9f03",
   "metadata": {},
   "outputs": [
    {
     "data": {
      "text/plain": [
       "-0.114"
      ]
     },
     "execution_count": 19,
     "metadata": {},
     "output_type": "execute_result"
    }
   ],
   "source": [
    "# skewness of speed\n",
    "np.round(stats.skew(nne[\"speed\"].dropna()),4)"
   ]
  },
  {
   "cell_type": "code",
   "execution_count": 21,
   "id": "543a2dea",
   "metadata": {},
   "outputs": [
    {
     "data": {
      "text/plain": [
       "0.7825"
      ]
     },
     "execution_count": 21,
     "metadata": {},
     "output_type": "execute_result"
    }
   ],
   "source": [
    "# skewness of distance\n",
    "np.round(stats.skew(nne[\"dist\"].dropna()),4)"
   ]
  },
  {
   "cell_type": "code",
   "execution_count": 22,
   "id": "0da8c4fc",
   "metadata": {},
   "outputs": [
    {
     "data": {
      "text/plain": [
       "2.423"
      ]
     },
     "execution_count": 22,
     "metadata": {},
     "output_type": "execute_result"
    }
   ],
   "source": [
    "# Kurtosis of speed\n",
    "np.round(3+np.round(stats.kurtosis(nne[\"speed\"].dropna()),4),3)"
   ]
  },
  {
   "cell_type": "code",
   "execution_count": 23,
   "id": "1fdd27db",
   "metadata": {},
   "outputs": [
    {
     "data": {
      "text/plain": [
       "3.248"
      ]
     },
     "execution_count": 23,
     "metadata": {},
     "output_type": "execute_result"
    }
   ],
   "source": [
    "# Kurtosis of distance\n",
    "np.round(3+np.round(stats.kurtosis(nne[\"dist\"].dropna()),4),3)"
   ]
  },
  {
   "cell_type": "markdown",
   "id": "dbb1106a",
   "metadata": {},
   "source": [
    "# Qusetion 9 b"
   ]
  },
  {
   "cell_type": "code",
   "execution_count": null,
   "id": "d91df721",
   "metadata": {},
   "outputs": [],
   "source": [
    "data=pd.read_csv(\"Q9_b.csv\")\n",
    "data"
   ]
  },
  {
   "cell_type": "code",
   "execution_count": null,
   "id": "e246a150",
   "metadata": {},
   "outputs": [],
   "source": [
    "np.round(stats.skew(data[\"SP\"].dropna()),4)"
   ]
  },
  {
   "cell_type": "code",
   "execution_count": null,
   "id": "bbb89d7a",
   "metadata": {},
   "outputs": [],
   "source": [
    "np.round(stats.skew(data[\"WT\"].dropna()),4)"
   ]
  },
  {
   "cell_type": "code",
   "execution_count": null,
   "id": "f3d6e2eb",
   "metadata": {},
   "outputs": [],
   "source": [
    "np.round(3+np.round(stats.kurtosis(data[\"SP\"].dropna()),4),3)"
   ]
  },
  {
   "cell_type": "code",
   "execution_count": null,
   "id": "338a727f",
   "metadata": {},
   "outputs": [],
   "source": [
    "np.round(3+np.round(stats.kurtosis(data[\"WT\"].dropna()),4),3)"
   ]
  },
  {
   "cell_type": "markdown",
   "id": "a9268de9",
   "metadata": {},
   "source": [
    "# Question 11"
   ]
  },
  {
   "cell_type": "code",
   "execution_count": 14,
   "id": "37b9e14d",
   "metadata": {},
   "outputs": [
    {
     "data": {
      "text/plain": [
       "array([143.576, 256.424])"
      ]
     },
     "execution_count": 14,
     "metadata": {},
     "output_type": "execute_result"
    }
   ],
   "source": [
    "from scipy import stats\n",
    "import numpy as np\n",
    "# For 94% Confidence interval.\n",
    "np.round(stats.norm.interval(0.94,200,30),3)"
   ]
  },
  {
   "cell_type": "code",
   "execution_count": 15,
   "id": "5469c58e",
   "metadata": {},
   "outputs": [
    {
     "data": {
      "text/plain": [
       "array([138.388, 261.612])"
      ]
     },
     "execution_count": 15,
     "metadata": {},
     "output_type": "execute_result"
    }
   ],
   "source": [
    "# For 96% Confidence interval.\n",
    "np.round(stats.norm.interval(0.96,200,30),3)"
   ]
  },
  {
   "cell_type": "code",
   "execution_count": 31,
   "id": "c617f88c",
   "metadata": {},
   "outputs": [
    {
     "data": {
      "text/plain": [
       "array([130.21, 269.79])"
      ]
     },
     "execution_count": 31,
     "metadata": {},
     "output_type": "execute_result"
    }
   ],
   "source": [
    "# For 98% Confidence interval.\n",
    "np.round(stats.norm.interval(0.98,200,30),3)"
   ]
  },
  {
   "cell_type": "markdown",
   "id": "6974fe3f",
   "metadata": {},
   "source": [
    "# Question 12"
   ]
  },
  {
   "cell_type": "code",
   "execution_count": 32,
   "id": "456bc231",
   "metadata": {},
   "outputs": [],
   "source": [
    "set=[34,36,36,38,38,39,39,40,40,41,41,41,41,42,42,45,49,56]"
   ]
  },
  {
   "cell_type": "code",
   "execution_count": 35,
   "id": "c3c9eeb4",
   "metadata": {},
   "outputs": [],
   "source": [
    "set=pd.DataFrame(set)"
   ]
  },
  {
   "cell_type": "code",
   "execution_count": 36,
   "id": "1c602056",
   "metadata": {},
   "outputs": [
    {
     "data": {
      "text/html": [
       "<div>\n",
       "<style scoped>\n",
       "    .dataframe tbody tr th:only-of-type {\n",
       "        vertical-align: middle;\n",
       "    }\n",
       "\n",
       "    .dataframe tbody tr th {\n",
       "        vertical-align: top;\n",
       "    }\n",
       "\n",
       "    .dataframe thead th {\n",
       "        text-align: right;\n",
       "    }\n",
       "</style>\n",
       "<table border=\"1\" class=\"dataframe\">\n",
       "  <thead>\n",
       "    <tr style=\"text-align: right;\">\n",
       "      <th></th>\n",
       "      <th>0</th>\n",
       "    </tr>\n",
       "  </thead>\n",
       "  <tbody>\n",
       "    <tr>\n",
       "      <th>count</th>\n",
       "      <td>18.000000</td>\n",
       "    </tr>\n",
       "    <tr>\n",
       "      <th>mean</th>\n",
       "      <td>41.000000</td>\n",
       "    </tr>\n",
       "    <tr>\n",
       "      <th>std</th>\n",
       "      <td>5.052664</td>\n",
       "    </tr>\n",
       "    <tr>\n",
       "      <th>min</th>\n",
       "      <td>34.000000</td>\n",
       "    </tr>\n",
       "    <tr>\n",
       "      <th>25%</th>\n",
       "      <td>38.250000</td>\n",
       "    </tr>\n",
       "    <tr>\n",
       "      <th>50%</th>\n",
       "      <td>40.500000</td>\n",
       "    </tr>\n",
       "    <tr>\n",
       "      <th>75%</th>\n",
       "      <td>41.750000</td>\n",
       "    </tr>\n",
       "    <tr>\n",
       "      <th>max</th>\n",
       "      <td>56.000000</td>\n",
       "    </tr>\n",
       "  </tbody>\n",
       "</table>\n",
       "</div>"
      ],
      "text/plain": [
       "               0\n",
       "count  18.000000\n",
       "mean   41.000000\n",
       "std     5.052664\n",
       "min    34.000000\n",
       "25%    38.250000\n",
       "50%    40.500000\n",
       "75%    41.750000\n",
       "max    56.000000"
      ]
     },
     "execution_count": 36,
     "metadata": {},
     "output_type": "execute_result"
    }
   ],
   "source": [
    "set.describe()"
   ]
  },
  {
   "cell_type": "code",
   "execution_count": 37,
   "id": "d7aef14f",
   "metadata": {},
   "outputs": [
    {
     "data": {
      "text/plain": [
       "0    25.529412\n",
       "dtype: float64"
      ]
     },
     "execution_count": 37,
     "metadata": {},
     "output_type": "execute_result"
    }
   ],
   "source": [
    "set.var()"
   ]
  },
  {
   "cell_type": "markdown",
   "id": "e0ca079f",
   "metadata": {},
   "source": [
    "# Question 21 a"
   ]
  },
  {
   "cell_type": "code",
   "execution_count": null,
   "id": "dfd700e2",
   "metadata": {},
   "outputs": [],
   "source": [
    "fl= pd.read_csv(\"Cars.csv\")\n",
    "fl"
   ]
  },
  {
   "cell_type": "code",
   "execution_count": 24,
   "id": "d112c57a",
   "metadata": {},
   "outputs": [
    {
     "data": {
      "image/png": "[encoded data removed]",
      "text/plain": [
       "<Figure size 432x288 with 1 Axes>"
      ]
     },
     "metadata": {
      "needs_background": "light"
     },
     "output_type": "display_data"
    }
   ],
   "source": [
    "sn.distplot(fl.MPG,label=\"MPG\");\n",
    "plt.xlabel(\"MPG\");\n",
    "plt.ylabel(\"Density\");\n",
    "plt.legend();"
   ]
  },
  {
   "cell_type": "code",
   "execution_count": 25,
   "id": "ed0f3fa1",
   "metadata": {},
   "outputs": [
    {
     "data": {
      "text/html": [
       "<div>\n",
       "<style scoped>\n",
       "    .dataframe tbody tr th:only-of-type {\n",
       "        vertical-align: middle;\n",
       "    }\n",
       "\n",
       "    .dataframe tbody tr th {\n",
       "        vertical-align: top;\n",
       "    }\n",
       "\n",
       "    .dataframe thead th {\n",
       "        text-align: right;\n",
       "    }\n",
       "</style>\n",
       "<table border=\"1\" class=\"dataframe\">\n",
       "  <thead>\n",
       "    <tr style=\"text-align: right;\">\n",
       "      <th></th>\n",
       "      <th>Waist</th>\n",
       "      <th>AT</th>\n",
       "    </tr>\n",
       "  </thead>\n",
       "  <tbody>\n",
       "    <tr>\n",
       "      <th>0</th>\n",
       "      <td>74.75</td>\n",
       "      <td>25.72</td>\n",
       "    </tr>\n",
       "    <tr>\n",
       "      <th>1</th>\n",
       "      <td>72.60</td>\n",
       "      <td>25.89</td>\n",
       "    </tr>\n",
       "    <tr>\n",
       "      <th>2</th>\n",
       "      <td>81.80</td>\n",
       "      <td>42.60</td>\n",
       "    </tr>\n",
       "    <tr>\n",
       "      <th>3</th>\n",
       "      <td>83.95</td>\n",
       "      <td>42.80</td>\n",
       "    </tr>\n",
       "    <tr>\n",
       "      <th>4</th>\n",
       "      <td>74.65</td>\n",
       "      <td>29.84</td>\n",
       "    </tr>\n",
       "    <tr>\n",
       "      <th>...</th>\n",
       "      <td>...</td>\n",
       "      <td>...</td>\n",
       "    </tr>\n",
       "    <tr>\n",
       "      <th>104</th>\n",
       "      <td>100.10</td>\n",
       "      <td>124.00</td>\n",
       "    </tr>\n",
       "    <tr>\n",
       "      <th>105</th>\n",
       "      <td>93.30</td>\n",
       "      <td>62.20</td>\n",
       "    </tr>\n",
       "    <tr>\n",
       "      <th>106</th>\n",
       "      <td>101.80</td>\n",
       "      <td>133.00</td>\n",
       "    </tr>\n",
       "    <tr>\n",
       "      <th>107</th>\n",
       "      <td>107.90</td>\n",
       "      <td>208.00</td>\n",
       "    </tr>\n",
       "    <tr>\n",
       "      <th>108</th>\n",
       "      <td>108.50</td>\n",
       "      <td>208.00</td>\n",
       "    </tr>\n",
       "  </tbody>\n",
       "</table>\n",
       "<p>109 rows × 2 columns</p>\n",
       "</div>"
      ],
      "text/plain": [
       "      Waist      AT\n",
       "0     74.75   25.72\n",
       "1     72.60   25.89\n",
       "2     81.80   42.60\n",
       "3     83.95   42.80\n",
       "4     74.65   29.84\n",
       "..      ...     ...\n",
       "104  100.10  124.00\n",
       "105   93.30   62.20\n",
       "106  101.80  133.00\n",
       "107  107.90  208.00\n",
       "108  108.50  208.00\n",
       "\n",
       "[109 rows x 2 columns]"
      ]
     },
     "execution_count": 25,
     "metadata": {},
     "output_type": "execute_result"
    }
   ],
   "source": [
    "cv=pd.read_csv(\"wc-at.csv\")\n",
    "cv"
   ]
  },
  {
   "cell_type": "markdown",
   "id": "23ae3b76",
   "metadata": {},
   "source": [
    "# Question 21 b"
   ]
  },
  {
   "cell_type": "code",
   "execution_count": 26,
   "id": "f7d31c7c",
   "metadata": {},
   "outputs": [
    {
     "data": {
      "image/png": "[encoded data removed]",
      "text/plain": [
       "<Figure size 720x432 with 2 Axes>"
      ]
     },
     "metadata": {
      "needs_background": "light"
     },
     "output_type": "display_data"
    }
   ],
   "source": [
    "plt.figure(figsize=(10,6));\n",
    "plt.subplot(1,2,1);\n",
    "sn.distplot(cv.Waist,label=\"waist\");\n",
    "plt.xlabel(\"waist\");\n",
    "plt.ylabel(\"Density\");\n",
    "plt.legend();\n",
    "\n",
    "plt.subplot(1,2,2);\n",
    "sn.distplot(cv.AT,label=(\"AT\"));\n",
    "plt.xlabel(\"AT\");\n",
    "plt.ylabel(\"Density\");\n",
    "plt.legend();\n"
   ]
  },
  {
   "cell_type": "code",
   "execution_count": null,
   "id": "2c439eb8",
   "metadata": {},
   "outputs": [],
   "source": []
  },
  {
   "cell_type": "markdown",
   "id": "f86ce39f",
   "metadata": {},
   "source": [
    "# Question 22 "
   ]
  },
  {
   "cell_type": "code",
   "execution_count": null,
   "id": "79fedbff",
   "metadata": {},
   "outputs": [],
   "source": [
    "np.round(stats.norm.ppf(0.90),3)"
   ]
  },
  {
   "cell_type": "code",
   "execution_count": null,
   "id": "9f71ae9b",
   "metadata": {},
   "outputs": [],
   "source": [
    "np.round(stats.norm.ppf(0.94),3)"
   ]
  },
  {
   "cell_type": "code",
   "execution_count": null,
   "id": "ef25c705",
   "metadata": {},
   "outputs": [],
   "source": [
    "np.round(stats.norm.ppf(0.60),3)"
   ]
  },
  {
   "cell_type": "markdown",
   "id": "d0bc4b58",
   "metadata": {},
   "source": [
    "# Question 23"
   ]
  },
  {
   "cell_type": "code",
   "execution_count": null,
   "id": "92ca4328",
   "metadata": {},
   "outputs": [],
   "source": [
    "np.round(stats.t.ppf(0.95,24),3)"
   ]
  },
  {
   "cell_type": "code",
   "execution_count": null,
   "id": "bd7aaee0",
   "metadata": {},
   "outputs": [],
   "source": [
    "np.round(stats.t.ppf(0.96,24),3)"
   ]
  },
  {
   "cell_type": "code",
   "execution_count": null,
   "id": "a0eb53a0",
   "metadata": {},
   "outputs": [],
   "source": [
    "np.round(stats.t.ppf(0.99,24),3)"
   ]
  },
  {
   "cell_type": "markdown",
   "id": "57c3640a",
   "metadata": {},
   "source": [
    "# Question 24"
   ]
  },
  {
   "cell_type": "code",
   "execution_count": 28,
   "id": "b6a41d22",
   "metadata": {},
   "outputs": [
    {
     "data": {
      "text/plain": [
       "1.0"
      ]
     },
     "execution_count": 28,
     "metadata": {},
     "output_type": "execute_result"
    }
   ],
   "source": [
    "stats.t.cdf(260,270,90)"
   ]
  },
  {
   "cell_type": "code",
   "execution_count": 29,
   "id": "6e92160e",
   "metadata": {},
   "outputs": [
    {
     "data": {
      "text/plain": [
       "-0.471"
      ]
     },
     "execution_count": 29,
     "metadata": {},
     "output_type": "execute_result"
    }
   ],
   "source": [
    "x=np.round((260-270)/(90/np.sqrt(18)),3)\n",
    "x"
   ]
  }
 ],
 "metadata": {
  "kernelspec": {
   "display_name": "Python 3 (ipykernel)",
   "language": "python",
   "name": "python3"
  },
  "language_info": {
   "codemirror_mode": {
    "name": "ipython",
    "version": 3
   },
   "file_extension": ".py",
   "mimetype": "text/x-python",
   "name": "python",
   "nbconvert_exporter": "python",
   "pygments_lexer": "ipython3",
   "version": "3.9.7"
  }
 },
 "nbformat": 4,
 "nbformat_minor": 5
}
